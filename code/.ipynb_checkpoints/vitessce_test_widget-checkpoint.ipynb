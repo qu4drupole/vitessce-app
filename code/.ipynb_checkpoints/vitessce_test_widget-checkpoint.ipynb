{
 "cells": [
  {
   "cell_type": "markdown",
   "id": "d931086e-1abc-4cf9-a275-0b17e6b9cfad",
   "metadata": {},
   "source": [
    "## Making a test widget...and generating the widget code"
   ]
  },
  {
   "cell_type": "code",
   "execution_count": 2,
   "id": "5ebe48af-79e9-453d-89e7-da18eb820bb9",
   "metadata": {},
   "outputs": [],
   "source": [
    "import tifffile as tff\n",
    "import numpy as np\n",
    "import pandas as pd\n",
    "import matplotlib.pyplot as plt\n",
    "import os\n",
    "import anndata as ad\n",
    "import pickle as pk"
   ]
  },
  {
   "cell_type": "code",
   "execution_count": 4,
   "id": "2c7f4c7e-6d80-4a46-9c1e-20e195175e10",
   "metadata": {},
   "outputs": [],
   "source": [
    "adata = ad.read_h5ad(\"../data/test/adata_small.h5ad\")"
   ]
  },
  {
   "cell_type": "markdown",
   "id": "c8caee92-745a-41a2-8292-c2335dcdc7f6",
   "metadata": {},
   "source": [
    "## Making the widget"
   ]
  },
  {
   "cell_type": "code",
   "execution_count": null,
   "id": "edc30876-a846-4798-8b65-654348268662",
   "metadata": {},
   "outputs": [],
   "source": [
    "# Option with ome-zarr\n",
    "vc = VitessceConfig(schema_version=\"1.0.15\", name='CODEX', description='Testing small slice of CODEX image')\n",
    "dataset = vc.add_dataset(name='R1reg1').add_object(\n",
    "    OmeZarrWrapper(img_path=\"/mnt/isilon/cscb/codex/pillaiv/SCTC-VP-15/vitessce-gh-pages/data/test/converted/codex_img.ome.zarr\")\n",
    ")\n",
    "spatial = vc.add_view(cm.SPATIAL, dataset=dataset)\n",
    "status = vc.add_view(cm.STATUS, dataset=dataset)\n",
    "lc = vc.add_view(cm.LAYER_CONTROLLER, dataset=dataset).set_props(disableChannelsIfRgbDetected=True)\n",
    "vc.layout(spatial | lc / status);"
   ]
  },
  {
   "cell_type": "code",
   "execution_count": null,
   "id": "e0b9027f-7cc4-49d9-b75b-6519852553be",
   "metadata": {},
   "outputs": [],
   "source": [
    "# Option with ome.tiff\n",
    "vc = VitessceConfig(schema_version=\"1.0.15\", name='CODEX', description='Testing small slice of CODEX image')\n",
    "dataset = vc.add_dataset(name='R1reg1').add_object(\n",
    "    MultiImageWrapper(\n",
    "        image_wrappers=[\n",
    "            OmeTiffWrapper(img_path='/mnt/isilon/cscb/codex/pillaiv/SCTC-VP-15/vitessce-gh-pages/data/test/converted/codex.ome.tif', name='Image'),\n",
    "            OmeTiffWrapper(img_path='/mnt/isilon/cscb/codex/pillaiv/SCTC-VP-15/vitessce-gh-pages/data/test/converted/masks.ome.tif', name='Mask', is_bitmask=True),\n",
    "        ]\n",
    " )\n",
    ")\n",
    "# making a UMAP\n",
    "cell_dataset = vc.add_dataset(name='R1reg1_obs').add_object(AnnDataWrapper(\n",
    "    adata_path=zarr_filepath,\n",
    "    obs_set_paths=[\"obs/new_pheno\"],\n",
    "    obs_set_names=[\"phenotype\"],\n",
    "    obs_embedding_paths=[\"obsm/X_umap\", \"obsm/X_pca\"],\n",
    "    obs_embedding_names=[\"UMAP\", \"PCA\"],\n",
    "    obs_feature_matrix_path=\"X\"\n",
    "))\n",
    "spatial = vc.add_view(cm.SPATIAL, dataset=dataset)\n",
    "# status = vc.add_view(cm.STATUS, dataset=dataset)\n",
    "lc = vc.add_view(cm.LAYER_CONTROLLER, dataset=dataset)\n",
    "umap = vc.add_view(cm.SCATTERPLOT, dataset=cell_dataset, mapping=\"UMAP\")\n",
    "cell_sets = vc.add_view(cm.OBS_SETS, dataset=cell_dataset)\n",
    "genes = vc.add_view(cm.FEATURE_LIST, dataset=cell_dataset)\n",
    "vc.layout(spatial | (lc | umap));"
   ]
  },
  {
   "cell_type": "code",
   "execution_count": null,
   "id": "75ec6d8e-98db-429e-82f9-3bf8cf37ce64",
   "metadata": {},
   "outputs": [],
   "source": [
    "vc.display()"
   ]
  },
  {
   "cell_type": "code",
   "execution_count": null,
   "id": "1bd49e67-65d1-4f6d-a8c3-1cef68e0e4de",
   "metadata": {},
   "outputs": [],
   "source": [
    "vw = vc.widget()\n",
    "vw"
   ]
  }
 ],
 "metadata": {
  "kernelspec": {
   "display_name": "vitessce-general",
   "language": "python",
   "name": "vitessce"
  },
  "language_info": {
   "codemirror_mode": {
    "name": "ipython",
    "version": 3
   },
   "file_extension": ".py",
   "mimetype": "text/x-python",
   "name": "python",
   "nbconvert_exporter": "python",
   "pygments_lexer": "ipython3",
   "version": "3.8.0"
  }
 },
 "nbformat": 4,
 "nbformat_minor": 5
}
