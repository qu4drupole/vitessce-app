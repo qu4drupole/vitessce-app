{
 "cells": [
  {
   "cell_type": "markdown",
   "id": "8e5bb568-e352-4a70-a87a-af73ad47dd0f",
   "metadata": {},
   "source": [
    "# Convert Data\n",
    "\n",
    "Need to convert the test data to be vitessce complient\n",
    "Looks like I'll need about 5 or so files\n",
    "\n",
    "## Files for running in python notebook\n",
    "1. The CODEX images\n",
    "    - in python, can ome-zarr or ome-tiff. Need conversion for either,\n",
    "        - ome-zarr: https://github.com/vitessce/vitessce-python/blob/main/demos/codeluppi-2018/src/convert_to_ome_zarr.py\n",
    "        - ome.tiff: https://pypi.org/project/tifffile/\n",
    "    - as of now, multi-image only works for ome.tiff\n",
    "2. Segmentation masks\n",
    "    - this can be ome-tiff\n",
    "    - Try as JSON? This can remember cell associations\n",
    "3. Expression values\n",
    "4. Metadata/annotations\n",
    "5. Dimension reductions\n",
    "\n",
    "## Files for React app\n",
    "Based on https://github.com/vitessce/vitessce-python/tree/main/demos/codeluppi-2018\n",
    "1. Segmentations\n",
    "    - JSON file that just has polygon coordinates. dump from dictionary that has cell ID keys\n",
    "2. Cell meta\n",
    "    - csv\n",
    "    - reductions, cell centroids, cell IDs as index\n",
    "3. Expression\n",
    "    - simple csv. Cell ID as row, marker as columns, fill with X\n",
    "4. Images\n",
    "    - ome.zarr\n",
    "\n",
    "NOTES:\n",
    "\n",
    "- Not sure if the image transpose is necessary...\n"
   ]
  },
  {
   "cell_type": "code",
   "execution_count": 1,
   "id": "5e21ba24-714f-42ef-a55f-2b4cf9a461e8",
   "metadata": {},
   "outputs": [],
   "source": [
    "import tifffile as tff\n",
    "import numpy as np\n",
    "import pandas as pd\n",
    "import matplotlib.pyplot as plt\n",
    "import os\n",
    "import anndata as ad\n",
    "import pickle as pk\n",
    "import scanpy as sc\n",
    "from vitessce.data_utils import (\n",
    "    multiplex_img_to_ome_zarr,\n",
    "    optimize_adata,\n",
    "    VAR_CHUNK_SIZE,\n",
    ")\n",
    "from vitessce import (\n",
    "    VitessceConfig,\n",
    "    Component as cm,\n",
    "    CoordinationType as ct,\n",
    "    AnnDataWrapper,\n",
    "    OmeTiffWrapper,\n",
    "    OmeZarrWrapper,\n",
    "    MultiImageWrapper,\n",
    ")\n"
   ]
  },
  {
   "cell_type": "code",
   "execution_count": 8,
   "id": "8bbf271b-9d09-44ea-885b-5b92f02f083a",
   "metadata": {},
   "outputs": [],
   "source": [
    "# channel_names = pd.read_table(\"/mnt/isilon/cscb/codex/pillaiv/SCTC-VP-15/code/forQuPath/channelNames.txt\", header=None)\n",
    "channel_names = channel_names.iloc[:,0].to_list()"
   ]
  },
  {
   "cell_type": "code",
   "execution_count": 9,
   "id": "9a548f2a-3cfa-4e26-9c50-35ac5c153259",
   "metadata": {},
   "outputs": [],
   "source": [
    "img = tff.TiffFile(\"../data/test/codex_small.tiff\")"
   ]
  },
  {
   "cell_type": "code",
   "execution_count": 10,
   "id": "bccbb0f8-950f-4796-89d4-9bce97a4786e",
   "metadata": {},
   "outputs": [],
   "source": [
    "img_dat = img.series[0].asarray()\n",
    "img_dat = img_dat.astype(np.dtype(\"<u2\"))\n",
    "img_dat = np.transpose(img_dat, axes=(0, 2, 1))"
   ]
  },
  {
   "cell_type": "code",
   "execution_count": 27,
   "id": "608339e2-3938-40d3-a41a-1cc17c8b8d54",
   "metadata": {},
   "outputs": [],
   "source": [
    "masks = tff.TiffFile(\"../data/test/bitmask_small.tiff\")\n",
    "masks_dat = masks.series[0].asarray()\n",
    "masks_dat = masks_dat.astype(np.dtype(\"<u2\"))\n",
    "masks_dat = np.transpose(masks_dat, axes=(1, 0))"
   ]
  },
  {
   "cell_type": "code",
   "execution_count": 31,
   "id": "ded366c2-56f8-4b01-8a53-6a88885b1c11",
   "metadata": {},
   "outputs": [
    {
     "data": {
      "text/plain": [
       "(2000, 2000)"
      ]
     },
     "execution_count": 31,
     "metadata": {},
     "output_type": "execute_result"
    }
   ],
   "source": [
    "masks_dat.shape"
   ]
  },
  {
   "cell_type": "markdown",
   "id": "c40ff9fa-c332-42bf-b20a-c5aaa0c0692c",
   "metadata": {},
   "source": [
    "### Making ome-tiff"
   ]
  },
  {
   "cell_type": "code",
   "execution_count": 36,
   "id": "d3fca66a-0d35-44de-8583-a326955e39de",
   "metadata": {},
   "outputs": [],
   "source": [
    "# CODEX data\n",
    "subresolutions = 1\n",
    "pixelsize = 0.29  # micrometer, just using what was in example, probably wrong\n",
    "with tff.TiffWriter('../data/test/converted/codex.ome.tif', ome=True) as tif:\n",
    "    metadata={\n",
    "        'axes': 'CYX',\n",
    "        'Channel': {'Name': channel_names},\n",
    "    }\n",
    "    # options = dict(\n",
    "    #     photometric='minisblack',\n",
    "    #     tile=(128, 128),\n",
    "    #     compression='jpeg',\n",
    "    #     resolutionunit='CENTIMETER'\n",
    "    # )\n",
    "    tif.write(\n",
    "        img_dat,\n",
    "        # subifds=subresolutions,\n",
    "        metadata=metadata,\n",
    "    )"
   ]
  },
  {
   "cell_type": "code",
   "execution_count": 39,
   "id": "22dc2f1d-0c81-429f-89e5-e8dc6f49966c",
   "metadata": {},
   "outputs": [],
   "source": [
    "# Mask data\n",
    "subresolutions = 1\n",
    "pixelsize = 0.29  # micrometer, just using what was in example, probably wrong\n",
    "with tff.TiffWriter('../data/test/converted/masks.ome.tif', ome=True) as tif:\n",
    "    metadata={\n",
    "        'axes': 'YX',\n",
    "    }\n",
    "    options = dict(\n",
    "        photometric='minisblack',\n",
    "        # tile=(128, 128),\n",
    "        # compression='jpeg',\n",
    "        # resolutionunit='CENTIMETER'\n",
    "    )\n",
    "    tif.write(\n",
    "        masks_dat,\n",
    "        # subifds=subresolutions,\n",
    "        metadata=metadata,\n",
    "        **options\n",
    "    )"
   ]
  },
  {
   "cell_type": "code",
   "execution_count": null,
   "id": "2b27e554-ce74-4af9-b00a-464a9125ac33",
   "metadata": {},
   "outputs": [],
   "source": [
    "# Mask csv\n",
    "# see \"Make_small_data\" notebook"
   ]
  },
  {
   "cell_type": "markdown",
   "id": "bb6f0c8e-2976-4bcd-a751-a4c6efa71855",
   "metadata": {},
   "source": [
    "### Making ome-zarr\n",
    "code from https://github.com/vitessce/vitessce-python/blob/main/demos/codeluppi-2018/src/convert_to_ome_zarr.py"
   ]
  },
  {
   "cell_type": "code",
   "execution_count": 13,
   "id": "7c2fc113-b0a9-4ebe-98e3-7a6ba9c6a5c6",
   "metadata": {},
   "outputs": [
    {
     "data": {
      "text/plain": [
       "(44, 2000, 2000)"
      ]
     },
     "execution_count": 13,
     "metadata": {},
     "output_type": "execute_result"
    }
   ],
   "source": []
  },
  {
   "cell_type": "code",
   "execution_count": 15,
   "id": "2d9d8a18-2169-4ae0-9539-2f1cdb3b40d1",
   "metadata": {},
   "outputs": [],
   "source": [
    "# for channel_i, channel_name in enumerate(channel_names):\n",
    "#     img_arr[channel_i, :, :] = img_dat[channel_i]\n",
    "\n",
    "multiplex_img_to_ome_zarr(\n",
    "    img_dat,\n",
    "    channel_names,\n",
    "    \"../data/test/converted/codex_img.ome.zarr\",\n",
    "    img_name=\"Image\",\n",
    "    chunks=(1, 512, 512),\n",
    "    axes=\"cyx\",\n",
    ")"
   ]
  },
  {
   "cell_type": "markdown",
   "id": "3a6a656f-523e-4bc1-b3ee-12788079660f",
   "metadata": {},
   "source": [
    "### Preparing the adata"
   ]
  },
  {
   "cell_type": "code",
   "execution_count": 12,
   "id": "08d91329-c733-44b0-ae85-c6de3820e6d7",
   "metadata": {},
   "outputs": [
    {
     "data": {
      "text/plain": [
       "AnnData object with n_obs × n_vars = 10556 × 44\n",
       "    obs: 'Unnamed: 0', 'orig.ident', 'nCount_originalexp', 'nFeature_originalexp', 'Reg', 'Tile.Row', 'Tile.Col', 'Tile.Z', 'In.Tile.Y', 'In.Tile.X', 'Absolute.Y', 'Absolute.X', 'Cell.Size', 'n_genes_by_counts', 'total_counts', 'nCount_raw', 'nFeature_raw', 'cell_type_pred_knn', 'cell_type_pred_knn_prob', 'motif', 'index_info', 'new_pheno'\n",
       "    var: 'n_cells_by_counts', 'mean_counts', 'pct_dropout_by_counts', 'total_counts', 'mean', 'std'\n",
       "    uns: 'spatial_distance', 'spatial_interaction', 'spatial_lda', 'spatial_lda_probability'"
      ]
     },
     "execution_count": 12,
     "metadata": {},
     "output_type": "execute_result"
    }
   ],
   "source": [
    "adata_small = ad.read_h5ad(\"../data/test/adata_small.h5ad\")\n",
    "adata_small"
   ]
  },
  {
   "cell_type": "code",
   "execution_count": 13,
   "id": "9d107ea3-4cbc-407c-b57d-7aecaf79e194",
   "metadata": {},
   "outputs": [],
   "source": [
    "adata_small.raw = adata_small\n",
    "sc.pp.scale(adata_small, max_value=10)\n",
    "sc.tl.pca(adata_small, svd_solver='arpack')\n",
    "sc.pp.neighbors(adata_small, n_neighbors=10, n_pcs=15)\n",
    "sc.tl.umap(adata_small)"
   ]
  },
  {
   "cell_type": "code",
   "execution_count": 20,
   "id": "bd7e8606-ecc8-4b71-942f-7aaa95e37831",
   "metadata": {},
   "outputs": [
    {
     "data": {
      "text/plain": [
       "AnnData object with n_obs × n_vars = 10556 × 44\n",
       "    obs: 'Unnamed: 0', 'orig.ident', 'nCount_originalexp', 'nFeature_originalexp', 'Reg', 'Tile.Row', 'Tile.Col', 'Tile.Z', 'In.Tile.Y', 'In.Tile.X', 'Absolute.Y', 'Absolute.X', 'Cell.Size', 'n_genes_by_counts', 'total_counts', 'nCount_raw', 'nFeature_raw', 'cell_type_pred_knn', 'cell_type_pred_knn_prob', 'motif', 'index_info', 'new_pheno'\n",
       "    var: 'n_cells_by_counts', 'mean_counts', 'pct_dropout_by_counts', 'total_counts', 'mean', 'std'\n",
       "    uns: 'spatial_distance', 'spatial_interaction', 'spatial_lda', 'spatial_lda_probability', 'pca', 'neighbors', 'umap'\n",
       "    obsm: 'X_pca', 'X_umap'\n",
       "    varm: 'PCs'\n",
       "    obsp: 'distances', 'connectivities'"
      ]
     },
     "execution_count": 20,
     "metadata": {},
     "output_type": "execute_result"
    }
   ],
   "source": [
    "adata_small"
   ]
  },
  {
   "cell_type": "code",
   "execution_count": 16,
   "id": "5261a7a8-bccf-45e9-aa4e-73b9280adbfb",
   "metadata": {},
   "outputs": [],
   "source": [
    "zarr_filepath = \"../data/test/converted/adata_small.zarr\"\n",
    "if not os.path.isdir(zarr_filepath):\n",
    "    adata = optimize_adata(\n",
    "        adata_small,\n",
    "        obs_cols=[\"new_pheno\"],\n",
    "        obsm_keys=[\"X_umap\", \"X_pca\"],\n",
    "        optimize_X=True,\n",
    "    )\n",
    "    adata.write_zarr(zarr_filepath, chunks=[adata.shape[0], VAR_CHUNK_SIZE])"
   ]
  },
  {
   "cell_type": "code",
   "execution_count": 28,
   "id": "3ea6dd37-26e3-4f20-838f-f3164a64de0d",
   "metadata": {
    "collapsed": true,
    "jupyter": {
     "outputs_hidden": true
    },
    "tags": []
   },
   "outputs": [
    {
     "name": "stderr",
     "output_type": "stream",
     "text": [
      "/tmp/ipykernel_93097/2192715062.py:3: SettingWithCopyWarning: \n",
      "A value is trying to be set on a copy of a slice from a DataFrame.\n",
      "Try using .loc[row_indexer,col_indexer] = value instead\n",
      "\n",
      "See the caveats in the documentation: https://pandas.pydata.org/pandas-docs/stable/user_guide/indexing.html#returning-a-view-versus-a-copy\n",
      "  cells_df[\"Unnamed: 0\"] = cells_df[\"Unnamed: 0\"].astype(int)\n"
     ]
    },
    {
     "data": {
      "text/html": [
       "<div>\n",
       "<style scoped>\n",
       "    .dataframe tbody tr th:only-of-type {\n",
       "        vertical-align: middle;\n",
       "    }\n",
       "\n",
       "    .dataframe tbody tr th {\n",
       "        vertical-align: top;\n",
       "    }\n",
       "\n",
       "    .dataframe thead th {\n",
       "        text-align: right;\n",
       "    }\n",
       "</style>\n",
       "<table border=\"1\" class=\"dataframe\">\n",
       "  <thead>\n",
       "    <tr style=\"text-align: right;\">\n",
       "      <th></th>\n",
       "      <th>Absolute.Y</th>\n",
       "      <th>Absolute.X</th>\n",
       "      <th>new_pheno</th>\n",
       "      <th>motif</th>\n",
       "    </tr>\n",
       "    <tr>\n",
       "      <th>cell_id</th>\n",
       "      <th></th>\n",
       "      <th></th>\n",
       "      <th></th>\n",
       "      <th></th>\n",
       "    </tr>\n",
       "  </thead>\n",
       "  <tbody>\n",
       "    <tr>\n",
       "      <th>41524</th>\n",
       "      <td>1833.046512</td>\n",
       "      <td>1941.697674</td>\n",
       "      <td>B_Cell</td>\n",
       "      <td>Motif_1</td>\n",
       "    </tr>\n",
       "    <tr>\n",
       "      <th>41525</th>\n",
       "      <td>1712.140741</td>\n",
       "      <td>1583.829630</td>\n",
       "      <td>B_Cell</td>\n",
       "      <td>Motif_1</td>\n",
       "    </tr>\n",
       "    <tr>\n",
       "      <th>41526</th>\n",
       "      <td>1859.259542</td>\n",
       "      <td>2002.175573</td>\n",
       "      <td>B_Cell</td>\n",
       "      <td>Motif_1</td>\n",
       "    </tr>\n",
       "    <tr>\n",
       "      <th>41527</th>\n",
       "      <td>1631.783784</td>\n",
       "      <td>1839.081081</td>\n",
       "      <td>B_Cell</td>\n",
       "      <td>Motif_1</td>\n",
       "    </tr>\n",
       "    <tr>\n",
       "      <th>41530</th>\n",
       "      <td>1581.342105</td>\n",
       "      <td>1512.394737</td>\n",
       "      <td>B_Cell</td>\n",
       "      <td>Motif_1</td>\n",
       "    </tr>\n",
       "  </tbody>\n",
       "</table>\n",
       "</div>"
      ],
      "text/plain": [
       "          Absolute.Y   Absolute.X new_pheno    motif\n",
       "cell_id                                             \n",
       "41524    1833.046512  1941.697674    B_Cell  Motif_1\n",
       "41525    1712.140741  1583.829630    B_Cell  Motif_1\n",
       "41526    1859.259542  2002.175573    B_Cell  Motif_1\n",
       "41527    1631.783784  1839.081081    B_Cell  Motif_1\n",
       "41530    1581.342105  1512.394737    B_Cell  Motif_1"
      ]
     },
     "execution_count": 28,
     "metadata": {},
     "output_type": "execute_result"
    }
   ],
   "source": [
    "# making a csv output\n",
    "cells_df = adata_small.obs[[\"Unnamed: 0\", \"Absolute.Y\", \"Absolute.X\", \"new_pheno\", \"motif\"]]\n",
    "cells_df[\"Unnamed: 0\"] = cells_df[\"Unnamed: 0\"].astype(int)\n",
    "cells_df.set_index(\"Unnamed: 0\", inplace=True)\n",
    "cells_df.index = cells_df.index.rename(\"cell_id\")\n",
    "cells_df.tail()"
   ]
  },
  {
   "cell_type": "code",
   "execution_count": 29,
   "id": "28b51b7e-fed6-4ac1-a411-5c123de185ed",
   "metadata": {},
   "outputs": [
    {
     "name": "stderr",
     "output_type": "stream",
     "text": [
      "/tmp/ipykernel_93097/3242105401.py:1: SettingWithCopyWarning: \n",
      "A value is trying to be set on a copy of a slice from a DataFrame.\n",
      "Try using .loc[row_indexer,col_indexer] = value instead\n",
      "\n",
      "See the caveats in the documentation: https://pandas.pydata.org/pandas-docs/stable/user_guide/indexing.html#returning-a-view-versus-a-copy\n",
      "  cells_df['UMAP_1'] = adata_small.obsm['X_umap'][:,0]\n",
      "/tmp/ipykernel_93097/3242105401.py:2: SettingWithCopyWarning: \n",
      "A value is trying to be set on a copy of a slice from a DataFrame.\n",
      "Try using .loc[row_indexer,col_indexer] = value instead\n",
      "\n",
      "See the caveats in the documentation: https://pandas.pydata.org/pandas-docs/stable/user_guide/indexing.html#returning-a-view-versus-a-copy\n",
      "  cells_df['UMAP_2'] = adata_small.obsm['X_umap'][:,1]\n"
     ]
    }
   ],
   "source": [
    "cells_df['UMAP_1'] = adata_small.obsm['X_umap'][:,0]\n",
    "cells_df['UMAP_2'] = adata_small.obsm['X_umap'][:,1]"
   ]
  },
  {
   "cell_type": "code",
   "execution_count": 31,
   "id": "873775a6-1aff-48f8-9bb1-619aa968e283",
   "metadata": {},
   "outputs": [],
   "source": [
    "matrix_df = pd.DataFrame(\n",
    "    index=cells_df.index.values.tolist(),\n",
    "    columns=adata_small.var.index.tolist(),\n",
    "    data=adata_small.raw.X\n",
    ")\n",
    "matrix_df.index = matrix_df.index.rename(\"cell_id\")"
   ]
  },
  {
   "cell_type": "code",
   "execution_count": 32,
   "id": "95a48856-10fe-47c7-a889-8a90dcd0ff25",
   "metadata": {},
   "outputs": [],
   "source": [
    "cells_df.to_csv(\"../data/test/converted/test_cells.csv\", index=True)\n",
    "matrix_df.to_csv(\"../data/test/converted/test_matrix.csv\", index=True)"
   ]
  },
  {
   "cell_type": "markdown",
   "id": "12b92dc1-94ad-462c-9948-c7c3ee1f48c7",
   "metadata": {},
   "source": [
    "## Making the widget"
   ]
  },
  {
   "cell_type": "code",
   "execution_count": 22,
   "id": "829d0945-2169-45ed-8421-0db37846f01c",
   "metadata": {},
   "outputs": [],
   "source": [
    "# Option with ome-zarr\n",
    "vc = VitessceConfig(schema_version=\"1.0.15\", name='CODEX', description='Testing small slice of CODEX image')\n",
    "dataset = vc.add_dataset(name='R1reg1').add_object(\n",
    "    OmeZarrWrapper(img_path=\"/mnt/isilon/cscb/codex/pillaiv/SCTC-VP-15/vitessce-gh-pages/data/test/converted/codex_img.ome.zarr\")\n",
    ")\n",
    "spatial = vc.add_view(cm.SPATIAL, dataset=dataset)\n",
    "status = vc.add_view(cm.STATUS, dataset=dataset)\n",
    "lc = vc.add_view(cm.LAYER_CONTROLLER, dataset=dataset).set_props(disableChannelsIfRgbDetected=True)\n",
    "vc.layout(spatial | lc / status);"
   ]
  },
  {
   "cell_type": "code",
   "execution_count": 18,
   "id": "f26395f1-3450-449a-ac3d-49ac02dc343f",
   "metadata": {},
   "outputs": [],
   "source": [
    "# Option with ome.tiff\n",
    "vc = VitessceConfig(schema_version=\"1.0.15\", name='CODEX', description='Testing small slice of CODEX image')\n",
    "dataset = vc.add_dataset(name='R1reg1').add_object(\n",
    "    MultiImageWrapper(\n",
    "        image_wrappers=[\n",
    "            OmeTiffWrapper(img_path='/mnt/isilon/cscb/codex/pillaiv/SCTC-VP-15/vitessce-gh-pages/data/test/converted/codex.ome.tif', name='Image'),\n",
    "            OmeTiffWrapper(img_path='/mnt/isilon/cscb/codex/pillaiv/SCTC-VP-15/vitessce-gh-pages/data/test/converted/masks.ome.tif', name='Mask', is_bitmask=True),\n",
    "        ]\n",
    " )\n",
    ")\n",
    "# making a UMAP\n",
    "cell_dataset = vc.add_dataset(name='R1reg1_obs').add_object(AnnDataWrapper(\n",
    "    adata_path=zarr_filepath,\n",
    "    obs_set_paths=[\"obs/new_pheno\"],\n",
    "    obs_set_names=[\"phenotype\"],\n",
    "    obs_embedding_paths=[\"obsm/X_umap\", \"obsm/X_pca\"],\n",
    "    obs_embedding_names=[\"UMAP\", \"PCA\"],\n",
    "    obs_feature_matrix_path=\"X\"\n",
    "))\n",
    "spatial = vc.add_view(cm.SPATIAL, dataset=dataset)\n",
    "# status = vc.add_view(cm.STATUS, dataset=dataset)\n",
    "lc = vc.add_view(cm.LAYER_CONTROLLER, dataset=dataset)\n",
    "umap = vc.add_view(cm.SCATTERPLOT, dataset=cell_dataset, mapping=\"UMAP\")\n",
    "cell_sets = vc.add_view(cm.OBS_SETS, dataset=cell_dataset)\n",
    "genes = vc.add_view(cm.FEATURE_LIST, dataset=cell_dataset)\n",
    "vc.layout(spatial | (lc | umap));"
   ]
  },
  {
   "cell_type": "code",
   "execution_count": 18,
   "id": "ed9b1a53-5f6f-4fef-9ead-79a27513b808",
   "metadata": {},
   "outputs": [
    {
     "data": {
      "application/vnd.jupyter.widget-view+json": {
       "model_id": "c1701f310f50482ab50315637814381a",
       "version_major": 2,
       "version_minor": 0
      },
      "text/plain": [
       "VitessceWidget(config={'version': '1.0.15', 'name': 'CODEX', 'description': 'Testing small slice of CODEX imag…"
      ]
     },
     "execution_count": 18,
     "metadata": {},
     "output_type": "execute_result"
    }
   ],
   "source": [
    "vw = vc.widget()\n",
    "vw"
   ]
  },
  {
   "cell_type": "code",
   "execution_count": 19,
   "id": "64e93473-17db-4d10-89a4-c813aeee2d3d",
   "metadata": {},
   "outputs": [
    {
     "data": {
      "text/html": [
       "\n",
       "        <div id=\"vitessceed23\"></div>\n",
       "\n",
       "        <script type=\"module\">\n",
       "\n",
       "            \n",
       "import * as d3 from 'https://esm.sh/d3-require@1.3.0';\n",
       "import React from 'https://esm.sh/react@18.2.0';\n",
       "import ReactDOM from 'https://esm.sh/react-dom@18.2.0';\n",
       "\n",
       "function asEsModule(component) {\n",
       "  return {\n",
       "    __esModule: true,\n",
       "    default: component,\n",
       "  };\n",
       "}\n",
       "\n",
       "const e = React.createElement;\n",
       "\n",
       "const prefersDark = window.matchMedia && window.matchMedia('(prefers-color-scheme: dark)').matches;\n",
       "\n",
       "// The jupyter server may be running through a proxy,\n",
       "// which means that the client needs to prepend the part of the URL before /proxy/8000 such as\n",
       "// https://hub.gke2.mybinder.org/user/vitessce-vitessce-python-swi31vcv/proxy/8000/A/0/cells\n",
       "function prependBaseUrl(config, proxy, hasHostName) {\n",
       "  if(!proxy || hasHostName) {\n",
       "    return config;\n",
       "  }\n",
       "  const { origin } = new URL(window.location.href);\n",
       "  let baseUrl;\n",
       "  const jupyterLabConfigEl = document.getElementById('jupyter-config-data');\n",
       "\n",
       "  if (jupyterLabConfigEl) {\n",
       "    // This is jupyter lab\n",
       "    baseUrl = JSON.parse(jupyterLabConfigEl.textContent || '').baseUrl;\n",
       "  } else {\n",
       "    // This is jupyter notebook\n",
       "    baseUrl = document.getElementsByTagName('body')[0].getAttribute('data-base-url');\n",
       "  }\n",
       "  return {\n",
       "    ...config,\n",
       "    datasets: config.datasets.map(d => ({\n",
       "      ...d,\n",
       "      files: d.files.map(f => ({\n",
       "        ...f,\n",
       "        url: `${origin}${baseUrl}${f.url}`,\n",
       "      })),\n",
       "    })),\n",
       "  };\n",
       "}\n",
       "\n",
       "export function render(view) {\n",
       "    const cssUid = view.model.get('uid');\n",
       "    const jsPackageVersion = view.model.get('js_package_version');\n",
       "    let customRequire = d3.require;\n",
       "    const customJsUrl = view.model.get('custom_js_url');\n",
       "    if(customJsUrl.length > 0) {\n",
       "        customRequire = d3.requireFrom(async () => {\n",
       "            return customJsUrl;\n",
       "        });\n",
       "    }\n",
       "\n",
       "    const aliasedRequire = customRequire.alias({\n",
       "        \"react\": React,\n",
       "        \"react-dom\": ReactDOM\n",
       "    });\n",
       "\n",
       "    const Vitessce = React.lazy(() => {\n",
       "        // Workaround for preventing side effects due to loading the Vitessce UMD bundle twice\n",
       "        // running createGenerateClassNames twice.\n",
       "        // Alternate solution should be possible in JS release v2.0.3.\n",
       "        // Reference: https://github.com/vitessce/vitessce/pull/1391\n",
       "        return aliasedRequire(`vitessce@${jsPackageVersion}`)\n",
       "            .then(vitessce => asEsModule(vitessce.Vitessce));\n",
       "    });\n",
       "\n",
       "    function VitessceWidget(props) {\n",
       "        const { model } = props;\n",
       "\n",
       "        const config = prependBaseUrl(model.get('config'), model.get('proxy'), model.get('has_host_name'));\n",
       "        const height = model.get('height');\n",
       "        const theme = model.get('theme') === 'auto' ? (prefersDark ? 'dark' : 'light') : model.get('theme');\n",
       "\n",
       "        const divRef = React.useRef();\n",
       "\n",
       "        React.useEffect(() => {\n",
       "            if(!divRef.current) {\n",
       "                return () => {};\n",
       "            }\n",
       "\n",
       "            function handleMouseEnter() {\n",
       "                const jpn = divRef.current.closest('.jp-Notebook');\n",
       "                if(jpn) {\n",
       "                    jpn.style.overflow = \"hidden\";\n",
       "                }\n",
       "            }\n",
       "            function handleMouseLeave(event) {\n",
       "                if(event.relatedTarget === null || (event.relatedTarget && event.relatedTarget.closest('.jp-Notebook')?.length)) return;\n",
       "                const jpn = divRef.current.closest('.jp-Notebook');\n",
       "                if(jpn) {\n",
       "                    jpn.style.overflow = \"auto\";\n",
       "                }\n",
       "            }\n",
       "            divRef.current.addEventListener(\"mouseenter\", handleMouseEnter);\n",
       "            divRef.current.addEventListener(\"mouseleave\", handleMouseLeave);\n",
       "\n",
       "            return () => {\n",
       "                if(divRef.current) {\n",
       "                    divRef.current.removeEventListener(\"mouseenter\", handleMouseEnter);\n",
       "                    divRef.current.removeEventListener(\"mouseleave\", handleMouseLeave);\n",
       "                }\n",
       "            };\n",
       "        }, [divRef]);\n",
       "\n",
       "        const onConfigChange = React.useCallback((config) => {\n",
       "            model.set('config', config);\n",
       "            model.save_changes();\n",
       "        }, [model]);\n",
       "\n",
       "        const vitessceProps = { height, theme, config, onConfigChange, uid: cssUid };\n",
       "\n",
       "        return e('div', { ref: divRef, style: { height: height + 'px' } },\n",
       "            e(React.Suspense, { fallback: e('div', {}, 'Loading...') },\n",
       "                e(Vitessce, vitessceProps)\n",
       "            )\n",
       "        );\n",
       "    }\n",
       "\n",
       "    ReactDOM.render(e(VitessceWidget, { model: view.model }), view.el);\n",
       "}\n",
       "\n",
       "\n",
       "            render({\n",
       "                model: {\n",
       "                    get: (key) => {\n",
       "                        const vals = {\"uid\": \"vitessceed23\", \"js_package_version\": \"2.0.3\", \"custom_js_url\": \"\", \"proxy\": false, \"has_host_name\": false, \"height\": 600, \"theme\": \"auto\", \"config\": {\"version\": \"1.0.15\", \"name\": \"CODEX\", \"description\": \"Testing small slice of CODEX image\", \"datasets\": [{\"uid\": \"A\", \"name\": \"R1reg1\", \"files\": [{\"fileType\": \"raster.json\", \"options\": {\"schemaVersion\": \"0.0.2\", \"usePhysicalSizeScaling\": false, \"images\": [{\"name\": \"Image\", \"type\": \"ome-tiff\", \"url\": \"http://localhost:8000/A/0/6ac85186-b5de-4efd-ba34-b4291a1f8de2\", \"metadata\": {\"omeTiffOffsetsUrl\": \"http://localhost:8000/A/0/86a1aebb-ef47-48b1-874e-fc01d6b3a957\", \"isBitmask\": false}}, {\"name\": \"Mask\", \"type\": \"ome-tiff\", \"url\": \"http://localhost:8000/A/0/2381509a-bc20-461b-939d-360e7d1e023f\", \"metadata\": {\"omeTiffOffsetsUrl\": \"http://localhost:8000/A/0/7f283d3a-01c1-4dbd-b7e7-52521c24c1f2\", \"isBitmask\": true}}], \"renderLayers\": [\"Image\", \"Mask\"]}}]}, {\"uid\": \"B\", \"name\": \"R1reg1_obs\", \"files\": [{\"fileType\": \"anndata.zarr\", \"url\": \"http://localhost:8000/B/0/21f3d5d9-c9cf-4b02-9ff8-7655ba0f209d\", \"options\": {\"obsEmbedding\": [{\"path\": \"obsm/X_umap\", \"dims\": [0, 1], \"embeddingType\": \"UMAP\"}, {\"path\": \"obsm/X_pca\", \"dims\": [0, 1], \"embeddingType\": \"PCA\"}], \"obsSets\": [{\"name\": \"phenotype\", \"path\": \"obs/new_pheno\"}], \"obsFeatureMatrix\": {\"path\": \"X\"}}}]}], \"coordinationSpace\": {\"dataset\": {\"A\": \"A\", \"B\": \"B\"}, \"embeddingType\": {\"A\": \"UMAP\"}}, \"layout\": [{\"component\": \"spatial\", \"coordinationScopes\": {\"dataset\": \"A\"}, \"x\": 0.0, \"y\": 0, \"w\": 6.0, \"h\": 12}, {\"component\": \"layerController\", \"coordinationScopes\": {\"dataset\": \"A\"}, \"x\": 6.0, \"y\": 0, \"w\": 3.0, \"h\": 12}, {\"component\": \"scatterplot\", \"coordinationScopes\": {\"dataset\": \"B\", \"embeddingType\": \"A\"}, \"x\": 9.0, \"y\": 0, \"w\": 3.0, \"h\": 12}, {\"component\": \"obsSets\", \"coordinationScopes\": {\"dataset\": \"B\"}, \"x\": 0, \"y\": 0, \"w\": 1, \"h\": 1}, {\"component\": \"featureList\", \"coordinationScopes\": {\"dataset\": \"B\"}, \"x\": 0, \"y\": 0, \"w\": 1, \"h\": 1}], \"initStrategy\": \"auto\"}};\n",
       "                        return vals[key];\n",
       "                    },\n",
       "                    set: () => {},\n",
       "                    save_changes: () => {}\n",
       "                },\n",
       "                el: document.getElementById(\"vitessceed23\"),\n",
       "            });\n",
       "        </script>\n",
       "    "
      ],
      "text/plain": [
       "<IPython.core.display.HTML object>"
      ]
     },
     "metadata": {},
     "output_type": "display_data"
    }
   ],
   "source": [
    "vc.display()"
   ]
  },
  {
   "cell_type": "code",
   "execution_count": null,
   "id": "d7e8bb98-795c-42ba-9a04-40d8e3103ae9",
   "metadata": {},
   "outputs": [],
   "source": []
  }
 ],
 "metadata": {
  "kernelspec": {
   "display_name": "vitessce-general",
   "language": "python",
   "name": "vitessce"
  },
  "language_info": {
   "codemirror_mode": {
    "name": "ipython",
    "version": 3
   },
   "file_extension": ".py",
   "mimetype": "text/x-python",
   "name": "python",
   "nbconvert_exporter": "python",
   "pygments_lexer": "ipython3",
   "version": "3.8.0"
  }
 },
 "nbformat": 4,
 "nbformat_minor": 5
}
